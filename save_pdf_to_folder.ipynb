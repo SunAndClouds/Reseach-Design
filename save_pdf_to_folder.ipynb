{
 "cells": [
  {
   "cell_type": "code",
   "execution_count": 1,
   "metadata": {},
   "outputs": [],
   "source": [
    "import os\n",
    "import requests\n",
    "\n",
    "def download_pdf(pdf_url, save_folder, filename=None):\n",
    "    # 確保資料夾存在\n",
    "    if not os.path.exists(save_folder):\n",
    "        os.makedirs(save_folder)\n",
    "    \n",
    "    # 如果未指定檔名，從 URL 自動擷取\n",
    "    if filename is None:\n",
    "        filename = pdf_url.split(\"/\")[-1]\n",
    "    \n",
    "    # 組合完整的儲存路徑\n",
    "    save_path = os.path.join(save_folder, filename)\n",
    "    \n",
    "    try:\n",
    "        # 發送 GET 請求下載 PDF\n",
    "        response = requests.get(pdf_url, stream=True)\n",
    "        response.raise_for_status()  # 確保請求成功\n",
    "        \n",
    "        # 以二進制模式寫入檔案\n",
    "        with open(save_path, \"wb\") as pdf_file:\n",
    "            for chunk in response.iter_content(chunk_size=8192):  # 分塊下載\n",
    "                pdf_file.write(chunk)\n",
    "        \n",
    "        print(f\"PDF 已成功下載並儲存於: {save_path}\")\n",
    "    except requests.exceptions.RequestException as e:\n",
    "        print(f\"下載失敗: {e}\")\n",
    "\n",
    "\n"
   ]
  },
  {
   "cell_type": "code",
   "execution_count": 2,
   "metadata": {},
   "outputs": [
    {
     "name": "stdout",
     "output_type": "stream",
     "text": [
      "PDF 已成功下載並儲存於: pdf/2501.01426v1\n"
     ]
    }
   ],
   "source": [
    "# 使用範例\n",
    "pdf_url=\"http://arxiv.org/pdf/2501.01426v1\" \n",
    "save_folder = \"pdf\"  # 指定資料夾\n",
    "download_pdf(pdf_url, save_folder)"
   ]
  }
 ],
 "metadata": {
  "kernelspec": {
   "display_name": "Python 3",
   "language": "python",
   "name": "python3"
  },
  "language_info": {
   "codemirror_mode": {
    "name": "ipython",
    "version": 3
   },
   "file_extension": ".py",
   "mimetype": "text/x-python",
   "name": "python",
   "nbconvert_exporter": "python",
   "pygments_lexer": "ipython3",
   "version": "3.11.9"
  }
 },
 "nbformat": 4,
 "nbformat_minor": 2
}
